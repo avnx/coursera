{
 "cells": [
  {
   "cell_type": "code",
   "execution_count": 5,
   "metadata": {},
   "outputs": [
    {
     "name": "stdout",
     "output_type": "stream",
     "text": [
      "Populating the interactive namespace from numpy and matplotlib\n"
     ]
    }
   ],
   "source": [
    "%pylab inline"
   ]
  },
  {
   "cell_type": "code",
   "execution_count": 6,
   "metadata": {},
   "outputs": [
    {
     "name": "stdout",
     "output_type": "stream",
     "text": [
      "numpy 1.20.1\n",
      "pandas 1.2.2\n",
      "sklearn 0.24.0\n"
     ]
    }
   ],
   "source": [
    "import seaborn as sns\n",
    "from copy import deepcopy\n",
    "import pandas as pd\n",
    "from tqdm import tqdm\n",
    "import sklearn\n",
    "\n",
    "for p in [np, pd, sklearn]:\n",
    "    print (p.__name__, p.__version__)"
   ]
  },
  {
   "cell_type": "code",
   "execution_count": 7,
   "metadata": {},
   "outputs": [],
   "source": [
    "from itertools import product\n",
    "from modules import downcast_dtypes, get_split_points, get_train_val, \\\n",
    "                    add_shop_last_stat, add_item_last_stat, fit_and_eval, fill_with_0_target, get_new_val"
   ]
  },
  {
   "cell_type": "code",
   "execution_count": 8,
   "metadata": {},
   "outputs": [],
   "source": [
    "def add_category_last_stat(data):\n",
    "    \"\"\"\n",
    "    add last month sales by category_id\n",
    "    \"\"\"\n",
    "    grouped = data.groupby(['date_block_num', 'item_category_id']).target.sum()\n",
    "    grouped = grouped.reset_index()\n",
    "    grouped['date_block_num'] += 1\n",
    "    grouped.rename(columns={'target': 'prev_category_sales'}, inplace=True)\n",
    "    return pd.merge(data, grouped,how='left',on=['date_block_num', 'item_category_id'])\n",
    "\n",
    "\n",
    "def add_cum_mean_target(data, by):\n",
    "    \"\"\"\n",
    "    cumulative mean gouped by different categorical features\n",
    "    \"\"\"\n",
    "    cumsum = data.groupby(by).target.cumsum() - data['target']\n",
    "    cumcnt = data.groupby(by).target.cumcount()\n",
    "    data[by[:-2] + 'target_enc'] = cumsum / cumcnt\n",
    "    data[by[:-2] + 'target_enc'].fillna(0.3343, inplace=True)\n",
    "    return data"
   ]
  },
  {
   "cell_type": "markdown",
   "metadata": {},
   "source": [
    "### Final part is at the end of notebook.\n",
    "In the beginning there is some EDA, experiments and thoughts on constructing dataset."
   ]
  },
  {
   "cell_type": "code",
   "execution_count": 4,
   "metadata": {},
   "outputs": [],
   "source": [
    "all_data = fill_with_0_target(downcast_dtypes(pd.read_csv('sales_train.csv')))"
   ]
  },
  {
   "cell_type": "code",
   "execution_count": 5,
   "metadata": {},
   "outputs": [],
   "source": [
    "sales = pd.read_csv('sales_train.csv')"
   ]
  },
  {
   "cell_type": "code",
   "execution_count": 6,
   "metadata": {},
   "outputs": [
    {
     "data": {
      "text/plain": [
       "(-2.0, 5000.0)"
      ]
     },
     "execution_count": 6,
     "metadata": {},
     "output_type": "execute_result"
    },
    {
     "data": {
      "image/png": "[encoded data removed]",
      "text/plain": [
       "<Figure size 1152x360 with 1 Axes>"
      ]
     },
     "metadata": {
      "needs_background": "light"
     },
     "output_type": "display_data"
    }
   ],
   "source": [
    "plt.figure(figsize=(16,5))\n",
    "sns.histplot(sales['item_price'])\n",
    "plt.xlim([-2, 5000])"
   ]
  },
  {
   "cell_type": "markdown",
   "metadata": {},
   "source": [
    "The most of item prices are below 5000"
   ]
  },
  {
   "cell_type": "code",
   "execution_count": 11,
   "metadata": {},
   "outputs": [
    {
     "name": "stderr",
     "output_type": "stream",
     "text": [
      "/home/ivan/venvs/kaggle/lib/python3.7/site-packages/pandas/core/frame.py:3188: SettingWithCopyWarning: \n",
      "A value is trying to be set on a copy of a slice from a DataFrame.\n",
      "Try using .loc[row_indexer,col_indexer] = value instead\n",
      "\n",
      "See the caveats in the documentation: https://pandas.pydata.org/pandas-docs/stable/user_guide/indexing.html#returning-a-view-versus-a-copy\n",
      "  self[k1] = value[k2]\n"
     ]
    }
   ],
   "source": [
    "all_data = fill_with_0_target(downcast_dtypes(sales.loc[sales['item_price'] < 6000]))"
   ]
  },
  {
   "cell_type": "code",
   "execution_count": 9,
   "metadata": {},
   "outputs": [
    {
     "data": {
      "text/plain": [
       "5999.0"
      ]
     },
     "execution_count": 9,
     "metadata": {},
     "output_type": "execute_result"
    }
   ],
   "source": [
    "np.percentile(sales['item_price'], 99)"
   ]
  },
  {
   "cell_type": "markdown",
   "metadata": {},
   "source": [
    "The 99th percentile of item_price is 5999, that's why I chose it to drop outliers."
   ]
  },
  {
   "cell_type": "code",
   "execution_count": 12,
   "metadata": {},
   "outputs": [
    {
     "name": "stdout",
     "output_type": "stream",
     "text": [
      "-1.0 307980.0\n"
     ]
    }
   ],
   "source": [
    "print(sales['item_price'].min(), sales['item_price'].max())"
   ]
  },
  {
   "cell_type": "code",
   "execution_count": 14,
   "metadata": {},
   "outputs": [],
   "source": [
    "all_data['target'] = all_data['target'].clip(0., 20.)\n",
    "#calc stat of item and shop sales of last month\n",
    "all_data = add_item_last_stat(all_data)\n",
    "all_data = add_shop_last_stat(all_data)\n",
    "\n",
    "all_data['is_new_item'] = all_data.prev_item_sales.isna().astype(int)\n",
    "all_data['month'] = all_data['date_block_num'] % 12"
   ]
  },
  {
   "cell_type": "code",
   "execution_count": 15,
   "metadata": {},
   "outputs": [],
   "source": [
    "items = pd.read_csv('items.csv')\n",
    "item_categories = pd.read_csv('item_categories.csv')"
   ]
  },
  {
   "cell_type": "code",
   "execution_count": 16,
   "metadata": {
    "scrolled": false
   },
   "outputs": [
    {
     "data": {
      "text/html": [
       "<div>\n",
       "<style scoped>\n",
       "    .dataframe tbody tr th:only-of-type {\n",
       "        vertical-align: middle;\n",
       "    }\n",
       "\n",
       "    .dataframe tbody tr th {\n",
       "        vertical-align: top;\n",
       "    }\n",
       "\n",
       "    .dataframe thead th {\n",
       "        text-align: right;\n",
       "    }\n",
       "</style>\n",
       "<table border=\"1\" class=\"dataframe\">\n",
       "  <thead>\n",
       "    <tr style=\"text-align: right;\">\n",
       "      <th></th>\n",
       "      <th>item_category_name</th>\n",
       "      <th>item_category_id</th>\n",
       "    </tr>\n",
       "  </thead>\n",
       "  <tbody>\n",
       "    <tr>\n",
       "      <th>0</th>\n",
       "      <td>PC - Гарнитуры/Наушники</td>\n",
       "      <td>0</td>\n",
       "    </tr>\n",
       "    <tr>\n",
       "      <th>1</th>\n",
       "      <td>Аксессуары - PS2</td>\n",
       "      <td>1</td>\n",
       "    </tr>\n",
       "    <tr>\n",
       "      <th>2</th>\n",
       "      <td>Аксессуары - PS3</td>\n",
       "      <td>2</td>\n",
       "    </tr>\n",
       "    <tr>\n",
       "      <th>3</th>\n",
       "      <td>Аксессуары - PS4</td>\n",
       "      <td>3</td>\n",
       "    </tr>\n",
       "    <tr>\n",
       "      <th>4</th>\n",
       "      <td>Аксессуары - PSP</td>\n",
       "      <td>4</td>\n",
       "    </tr>\n",
       "  </tbody>\n",
       "</table>\n",
       "</div>"
      ],
      "text/plain": [
       "        item_category_name  item_category_id\n",
       "0  PC - Гарнитуры/Наушники                 0\n",
       "1         Аксессуары - PS2                 1\n",
       "2         Аксессуары - PS3                 2\n",
       "3         Аксессуары - PS4                 3\n",
       "4         Аксессуары - PSP                 4"
      ]
     },
     "execution_count": 16,
     "metadata": {},
     "output_type": "execute_result"
    }
   ],
   "source": [
    "item_categories.head()"
   ]
  },
  {
   "cell_type": "code",
   "execution_count": 17,
   "metadata": {},
   "outputs": [
    {
     "data": {
      "text/html": [
       "<div>\n",
       "<style scoped>\n",
       "    .dataframe tbody tr th:only-of-type {\n",
       "        vertical-align: middle;\n",
       "    }\n",
       "\n",
       "    .dataframe tbody tr th {\n",
       "        vertical-align: top;\n",
       "    }\n",
       "\n",
       "    .dataframe thead th {\n",
       "        text-align: right;\n",
       "    }\n",
       "</style>\n",
       "<table border=\"1\" class=\"dataframe\">\n",
       "  <thead>\n",
       "    <tr style=\"text-align: right;\">\n",
       "      <th></th>\n",
       "      <th>shop_id</th>\n",
       "      <th>item_id</th>\n",
       "      <th>date_block_num</th>\n",
       "      <th>target</th>\n",
       "      <th>prev_item_sales</th>\n",
       "      <th>prev_shop_sales</th>\n",
       "      <th>is_new_item</th>\n",
       "      <th>month</th>\n",
       "    </tr>\n",
       "  </thead>\n",
       "  <tbody>\n",
       "    <tr>\n",
       "      <th>0</th>\n",
       "      <td>0</td>\n",
       "      <td>19</td>\n",
       "      <td>0</td>\n",
       "      <td>0.0</td>\n",
       "      <td>NaN</td>\n",
       "      <td>NaN</td>\n",
       "      <td>1</td>\n",
       "      <td>0</td>\n",
       "    </tr>\n",
       "    <tr>\n",
       "      <th>1</th>\n",
       "      <td>0</td>\n",
       "      <td>27</td>\n",
       "      <td>0</td>\n",
       "      <td>0.0</td>\n",
       "      <td>NaN</td>\n",
       "      <td>NaN</td>\n",
       "      <td>1</td>\n",
       "      <td>0</td>\n",
       "    </tr>\n",
       "    <tr>\n",
       "      <th>2</th>\n",
       "      <td>0</td>\n",
       "      <td>28</td>\n",
       "      <td>0</td>\n",
       "      <td>0.0</td>\n",
       "      <td>NaN</td>\n",
       "      <td>NaN</td>\n",
       "      <td>1</td>\n",
       "      <td>0</td>\n",
       "    </tr>\n",
       "    <tr>\n",
       "      <th>3</th>\n",
       "      <td>0</td>\n",
       "      <td>29</td>\n",
       "      <td>0</td>\n",
       "      <td>0.0</td>\n",
       "      <td>NaN</td>\n",
       "      <td>NaN</td>\n",
       "      <td>1</td>\n",
       "      <td>0</td>\n",
       "    </tr>\n",
       "    <tr>\n",
       "      <th>4</th>\n",
       "      <td>0</td>\n",
       "      <td>32</td>\n",
       "      <td>0</td>\n",
       "      <td>6.0</td>\n",
       "      <td>NaN</td>\n",
       "      <td>NaN</td>\n",
       "      <td>1</td>\n",
       "      <td>0</td>\n",
       "    </tr>\n",
       "    <tr>\n",
       "      <th>...</th>\n",
       "      <td>...</td>\n",
       "      <td>...</td>\n",
       "      <td>...</td>\n",
       "      <td>...</td>\n",
       "      <td>...</td>\n",
       "      <td>...</td>\n",
       "      <td>...</td>\n",
       "      <td>...</td>\n",
       "    </tr>\n",
       "    <tr>\n",
       "      <th>10817196</th>\n",
       "      <td>59</td>\n",
       "      <td>22162</td>\n",
       "      <td>33</td>\n",
       "      <td>0.0</td>\n",
       "      <td>7.0</td>\n",
       "      <td>904.0</td>\n",
       "      <td>0</td>\n",
       "      <td>9</td>\n",
       "    </tr>\n",
       "    <tr>\n",
       "      <th>10817197</th>\n",
       "      <td>59</td>\n",
       "      <td>22163</td>\n",
       "      <td>33</td>\n",
       "      <td>0.0</td>\n",
       "      <td>20.0</td>\n",
       "      <td>904.0</td>\n",
       "      <td>0</td>\n",
       "      <td>9</td>\n",
       "    </tr>\n",
       "    <tr>\n",
       "      <th>10817198</th>\n",
       "      <td>59</td>\n",
       "      <td>22164</td>\n",
       "      <td>33</td>\n",
       "      <td>0.0</td>\n",
       "      <td>9.0</td>\n",
       "      <td>904.0</td>\n",
       "      <td>0</td>\n",
       "      <td>9</td>\n",
       "    </tr>\n",
       "    <tr>\n",
       "      <th>10817199</th>\n",
       "      <td>59</td>\n",
       "      <td>22166</td>\n",
       "      <td>33</td>\n",
       "      <td>0.0</td>\n",
       "      <td>5.0</td>\n",
       "      <td>904.0</td>\n",
       "      <td>0</td>\n",
       "      <td>9</td>\n",
       "    </tr>\n",
       "    <tr>\n",
       "      <th>10817200</th>\n",
       "      <td>59</td>\n",
       "      <td>22167</td>\n",
       "      <td>33</td>\n",
       "      <td>0.0</td>\n",
       "      <td>21.0</td>\n",
       "      <td>904.0</td>\n",
       "      <td>0</td>\n",
       "      <td>9</td>\n",
       "    </tr>\n",
       "  </tbody>\n",
       "</table>\n",
       "<p>10817201 rows × 8 columns</p>\n",
       "</div>"
      ],
      "text/plain": [
       "          shop_id  item_id  date_block_num  target  prev_item_sales  \\\n",
       "0               0       19               0     0.0              NaN   \n",
       "1               0       27               0     0.0              NaN   \n",
       "2               0       28               0     0.0              NaN   \n",
       "3               0       29               0     0.0              NaN   \n",
       "4               0       32               0     6.0              NaN   \n",
       "...           ...      ...             ...     ...              ...   \n",
       "10817196       59    22162              33     0.0              7.0   \n",
       "10817197       59    22163              33     0.0             20.0   \n",
       "10817198       59    22164              33     0.0              9.0   \n",
       "10817199       59    22166              33     0.0              5.0   \n",
       "10817200       59    22167              33     0.0             21.0   \n",
       "\n",
       "          prev_shop_sales  is_new_item  month  \n",
       "0                     NaN            1      0  \n",
       "1                     NaN            1      0  \n",
       "2                     NaN            1      0  \n",
       "3                     NaN            1      0  \n",
       "4                     NaN            1      0  \n",
       "...                   ...          ...    ...  \n",
       "10817196            904.0            0      9  \n",
       "10817197            904.0            0      9  \n",
       "10817198            904.0            0      9  \n",
       "10817199            904.0            0      9  \n",
       "10817200            904.0            0      9  \n",
       "\n",
       "[10817201 rows x 8 columns]"
      ]
     },
     "execution_count": 17,
     "metadata": {},
     "output_type": "execute_result"
    }
   ],
   "source": [
    "all_data"
   ]
  },
  {
   "cell_type": "code",
   "execution_count": 18,
   "metadata": {},
   "outputs": [],
   "source": [
    "# add item_category to all_data table\n",
    "all_data = pd.merge(all_data, items, how='left', on='item_id').fillna(0.).drop(columns=['item_name'])"
   ]
  },
  {
   "cell_type": "code",
   "execution_count": 19,
   "metadata": {},
   "outputs": [
    {
     "data": {
      "text/html": [
       "<div>\n",
       "<style scoped>\n",
       "    .dataframe tbody tr th:only-of-type {\n",
       "        vertical-align: middle;\n",
       "    }\n",
       "\n",
       "    .dataframe tbody tr th {\n",
       "        vertical-align: top;\n",
       "    }\n",
       "\n",
       "    .dataframe thead th {\n",
       "        text-align: right;\n",
       "    }\n",
       "</style>\n",
       "<table border=\"1\" class=\"dataframe\">\n",
       "  <thead>\n",
       "    <tr style=\"text-align: right;\">\n",
       "      <th></th>\n",
       "      <th>shop_id</th>\n",
       "      <th>item_id</th>\n",
       "      <th>date_block_num</th>\n",
       "      <th>target</th>\n",
       "      <th>prev_item_sales</th>\n",
       "      <th>prev_shop_sales</th>\n",
       "      <th>is_new_item</th>\n",
       "      <th>month</th>\n",
       "      <th>item_category_id</th>\n",
       "    </tr>\n",
       "  </thead>\n",
       "  <tbody>\n",
       "    <tr>\n",
       "      <th>0</th>\n",
       "      <td>0</td>\n",
       "      <td>19</td>\n",
       "      <td>0</td>\n",
       "      <td>0.0</td>\n",
       "      <td>0.0</td>\n",
       "      <td>0.0</td>\n",
       "      <td>1</td>\n",
       "      <td>0</td>\n",
       "      <td>40</td>\n",
       "    </tr>\n",
       "    <tr>\n",
       "      <th>1</th>\n",
       "      <td>0</td>\n",
       "      <td>27</td>\n",
       "      <td>0</td>\n",
       "      <td>0.0</td>\n",
       "      <td>0.0</td>\n",
       "      <td>0.0</td>\n",
       "      <td>1</td>\n",
       "      <td>0</td>\n",
       "      <td>19</td>\n",
       "    </tr>\n",
       "    <tr>\n",
       "      <th>2</th>\n",
       "      <td>0</td>\n",
       "      <td>28</td>\n",
       "      <td>0</td>\n",
       "      <td>0.0</td>\n",
       "      <td>0.0</td>\n",
       "      <td>0.0</td>\n",
       "      <td>1</td>\n",
       "      <td>0</td>\n",
       "      <td>30</td>\n",
       "    </tr>\n",
       "    <tr>\n",
       "      <th>3</th>\n",
       "      <td>0</td>\n",
       "      <td>29</td>\n",
       "      <td>0</td>\n",
       "      <td>0.0</td>\n",
       "      <td>0.0</td>\n",
       "      <td>0.0</td>\n",
       "      <td>1</td>\n",
       "      <td>0</td>\n",
       "      <td>23</td>\n",
       "    </tr>\n",
       "    <tr>\n",
       "      <th>4</th>\n",
       "      <td>0</td>\n",
       "      <td>32</td>\n",
       "      <td>0</td>\n",
       "      <td>6.0</td>\n",
       "      <td>0.0</td>\n",
       "      <td>0.0</td>\n",
       "      <td>1</td>\n",
       "      <td>0</td>\n",
       "      <td>40</td>\n",
       "    </tr>\n",
       "  </tbody>\n",
       "</table>\n",
       "</div>"
      ],
      "text/plain": [
       "   shop_id  item_id  date_block_num  target  prev_item_sales  prev_shop_sales  \\\n",
       "0        0       19               0     0.0              0.0              0.0   \n",
       "1        0       27               0     0.0              0.0              0.0   \n",
       "2        0       28               0     0.0              0.0              0.0   \n",
       "3        0       29               0     0.0              0.0              0.0   \n",
       "4        0       32               0     6.0              0.0              0.0   \n",
       "\n",
       "   is_new_item  month  item_category_id  \n",
       "0            1      0                40  \n",
       "1            1      0                19  \n",
       "2            1      0                30  \n",
       "3            1      0                23  \n",
       "4            1      0                40  "
      ]
     },
     "execution_count": 19,
     "metadata": {},
     "output_type": "execute_result"
    }
   ],
   "source": [
    "all_data.head()"
   ]
  },
  {
   "cell_type": "code",
   "execution_count": 20,
   "metadata": {},
   "outputs": [],
   "source": [
    "#drop date_block_num=0 and date_block_num=34 (test)\n",
    "train_exp_on_prev = all_data.fillna(0.).loc[(all_data['date_block_num'] > 0) & (all_data['date_block_num'] < 34)]"
   ]
  },
  {
   "cell_type": "code",
   "execution_count": 25,
   "metadata": {},
   "outputs": [
    {
     "name": "stdout",
     "output_type": "stream",
     "text": [
      "new column = item_category_id\n",
      "Model:  cbr\n",
      "feat importancies:  [47.07856969 26.40333576  3.39379632  7.84963197 15.27466626]\n",
      "rmse on val:  [0.9091792571116921, 0.8345350922381436, 0.9074456160686453, 1.0105273426450032, 0.9698690269683631]\n",
      "best iterations:  [52, 29, 48, 29, 39]\n"
     ]
    }
   ],
   "source": [
    "print('new column = item_category_id')\n",
    "model =  fit_and_eval(train_exp_on_prev, algo='cbr',early_stopping_rounds=5)"
   ]
  },
  {
   "cell_type": "code",
   "execution_count": 37,
   "metadata": {},
   "outputs": [],
   "source": [
    "from catboost import CatBoostRegressor\n",
    "from sklearn.metrics import mean_squared_error as mse\n",
    "\n",
    "\n",
    "#redefined fit_and_eval with new name fit_and_eval2 in order to test how cat_features attribute works at catboost\n",
    "def fit_and_eval2(data, algo='rfr', early_stopping_rounds=5):\n",
    "    train_split_points, val_split_points = get_split_points(data)\n",
    "\n",
    "    val_results = []\n",
    "    best_iterations = []\n",
    "    for train, val in get_train_val(data, train_split_points, val_split_points):\n",
    "        extra_items = set(val.item_id) - set(train.item_id)\n",
    "        extra_idces = val.loc[val['item_id'].isin(extra_items)].index - val.index.min()\n",
    "        val = get_new_val(val, extra_items, extra_idces).reset_index(drop=True)\n",
    "#         X_train = np.array(train.drop(['date_block_num', 'target', 'item_id', 'shop_id'], axis=1))\n",
    "        X_train = train.drop(['date_block_num', 'target', 'item_id', 'shop_id'], axis=1)\n",
    "#         X_val = np.array(val.drop(['date_block_num', 'target', 'item_id', 'shop_id'], axis=1))\n",
    "        X_val = val.drop(['date_block_num', 'target', 'item_id', 'shop_id'], axis=1)\n",
    "        y_train, y_val = np.array(train['target']), np.array(val['target'])\n",
    "        if algo == 'rfr':\n",
    "            model = RandomForestRegressor(n_estimators=64, n_jobs=-1)\n",
    "            model.fit(X_train, y_train)\n",
    "        else:\n",
    "            model = CatBoostRegressor(cat_features=['item_category_id'])\n",
    "            model.fit(X_train, y_train, eval_set=(X_val, y_val), early_stopping_rounds=early_stopping_rounds, silent=True)\n",
    "        preds = model.predict(X_val)\n",
    "        extra_idces = val.loc[val['item_id'].isin(extra_items)].index - val.index.min()\n",
    "        preds[extra_idces] += 0.3\n",
    "        val_results.append(mse(preds, y_val, squared=False))\n",
    "        best_iterations.append(model.best_iteration_)\n",
    "    print('Model: ', algo)\n",
    "    print('feat importancies: ', model.feature_importances_)\n",
    "    print('rmse on val: ', val_results)\n",
    "    print('best iterations: ', best_iterations)\n",
    "    return model"
   ]
  },
  {
   "cell_type": "code",
   "execution_count": 38,
   "metadata": {},
   "outputs": [
    {
     "name": "stdout",
     "output_type": "stream",
     "text": [
      "new column = item_category_id added as cat_feature in catboost\n",
      "Model:  cbr\n",
      "feat importancies:  [52.04992839 29.04140047  2.81879832  6.25987099  9.83000183]\n",
      "rmse on val:  [0.9296904121213081, 0.8382860983250087, 0.9046615678588986, 0.9980526026212501, 0.9740851942965365]\n",
      "best iterations:  [29, 29, 56, 26, 20]\n"
     ]
    }
   ],
   "source": [
    "print('new column = item_category_id added as cat_feature in catboost')\n",
    "model =  fit_and_eval2(train_exp_on_prev, algo='cbr',early_stopping_rounds=5)"
   ]
  },
  {
   "cell_type": "code",
   "execution_count": 40,
   "metadata": {},
   "outputs": [],
   "source": [
    "all_data = add_cum_mean_target(all_data, by='item_category_id')"
   ]
  },
  {
   "cell_type": "code",
   "execution_count": 43,
   "metadata": {},
   "outputs": [],
   "source": [
    "train_exp_on_prev = all_data.fillna(0.).loc[(all_data['date_block_num'] > 0) & (all_data['date_block_num'] < 34)]"
   ]
  },
  {
   "cell_type": "markdown",
   "metadata": {},
   "source": [
    "#### Different experiments"
   ]
  },
  {
   "cell_type": "code",
   "execution_count": 44,
   "metadata": {},
   "outputs": [
    {
     "name": "stdout",
     "output_type": "stream",
     "text": [
      "new column = item_category_id mean encoded\n",
      "Model:  cbr\n",
      "feat importancies:  [48.91645442 25.83866754  3.48724535  6.86011238  6.58152827  8.31599204]\n",
      "rmse on val:  [0.9054465830732805, 0.8321833546183878, 0.8917379651935874, 0.9932953227796706, 0.9606892632265039]\n",
      "best iterations:  [75, 45, 49, 30, 31]\n"
     ]
    }
   ],
   "source": [
    "print('new column = item_category_id mean encoded')\n",
    "model =  fit_and_eval(train_exp_on_prev, algo='cbr',early_stopping_rounds=5)"
   ]
  },
  {
   "cell_type": "code",
   "execution_count": 47,
   "metadata": {},
   "outputs": [
    {
     "name": "stdout",
     "output_type": "stream",
     "text": [
      "new column = item_category_id mean encoded without item_category_id\n",
      "Model:  cbr\n",
      "feat importancies:  [51.72796547 29.77827201  2.55237147  6.59788753  9.34350352]\n",
      "rmse on val:  [0.9144906874339123, 0.8501166086849891, 0.8975475324127261, 1.0146009312085198, 0.976543611956666]\n",
      "best iterations:  [72, 27, 50, 21, 19]\n"
     ]
    }
   ],
   "source": [
    "print('new column = item_category_id mean encoded without item_category_id')\n",
    "model =  fit_and_eval(train_exp_on_prev.drop(columns=['item_category_id']), algo='cbr',early_stopping_rounds=5)"
   ]
  },
  {
   "cell_type": "code",
   "execution_count": 49,
   "metadata": {},
   "outputs": [],
   "source": [
    "all_data = add_category_last_stat(all_data)"
   ]
  },
  {
   "cell_type": "code",
   "execution_count": 52,
   "metadata": {},
   "outputs": [
    {
     "name": "stdout",
     "output_type": "stream",
     "text": [
      "new column = item_category_id mean encoded & prev category sales\n",
      "Model:  cbr\n",
      "feat importancies:  [45.64972205 26.21136813  3.70736177  7.56895319  6.019342    8.70916487\n",
      "  2.13408799]\n",
      "rmse on val:  [0.9108064611179884, 0.8368991645455478, 0.8898670916186954, 1.0032162524537196, 0.9591540692051995]\n",
      "best iterations:  [64, 46, 34, 31, 40]\n"
     ]
    }
   ],
   "source": [
    "train_exp_on_prev = all_data.fillna(0.).loc[(all_data['date_block_num'] > 0) & (all_data['date_block_num'] < 34)]\n",
    "print('new column = item_category_id mean encoded & prev category sales')\n",
    "model =  fit_and_eval(train_exp_on_prev, algo='cbr',early_stopping_rounds=5)"
   ]
  },
  {
   "cell_type": "code",
   "execution_count": 53,
   "metadata": {},
   "outputs": [
    {
     "name": "stdout",
     "output_type": "stream",
     "text": [
      "new column = item_category_id mean encoded & prev category sales & early_stopping_rounds = 30\n",
      "Model:  cbr\n",
      "feat importancies:  [45.64972205 26.21136813  3.70736177  7.56895319  6.019342    8.70916487\n",
      "  2.13408799]\n",
      "rmse on val:  [0.8895812454231121, 0.837829463313929, 0.8735236083872027, 0.9943844702484855, 0.9660495646215803]\n",
      "best iterations:  [171, 78, 423, 31, 40]\n"
     ]
    }
   ],
   "source": [
    "print('new column = item_category_id mean encoded & prev category sales & early_stopping_rounds = 30')\n",
    "model =  fit_and_eval(train_exp_on_prev, algo='cbr',early_stopping_rounds=30)"
   ]
  },
  {
   "cell_type": "markdown",
   "metadata": {},
   "source": [
    "#### Different experiments finished"
   ]
  },
  {
   "cell_type": "code",
   "execution_count": 34,
   "metadata": {
    "scrolled": true
   },
   "outputs": [
    {
     "data": {
      "text/html": [
       "<div>\n",
       "<style scoped>\n",
       "    .dataframe tbody tr th:only-of-type {\n",
       "        vertical-align: middle;\n",
       "    }\n",
       "\n",
       "    .dataframe tbody tr th {\n",
       "        vertical-align: top;\n",
       "    }\n",
       "\n",
       "    .dataframe thead th {\n",
       "        text-align: right;\n",
       "    }\n",
       "</style>\n",
       "<table border=\"1\" class=\"dataframe\">\n",
       "  <thead>\n",
       "    <tr style=\"text-align: right;\">\n",
       "      <th></th>\n",
       "      <th>shop_id</th>\n",
       "      <th>item_id</th>\n",
       "      <th>date_block_num</th>\n",
       "      <th>target</th>\n",
       "      <th>prev_item_sales</th>\n",
       "      <th>prev_shop_sales</th>\n",
       "      <th>is_new_item</th>\n",
       "      <th>month</th>\n",
       "      <th>item_category_id</th>\n",
       "    </tr>\n",
       "  </thead>\n",
       "  <tbody>\n",
       "    <tr>\n",
       "      <th>362565</th>\n",
       "      <td>0</td>\n",
       "      <td>12</td>\n",
       "      <td>1</td>\n",
       "      <td>0.0</td>\n",
       "      <td>0.0</td>\n",
       "      <td>5366.0</td>\n",
       "      <td>1</td>\n",
       "      <td>1</td>\n",
       "      <td>55</td>\n",
       "    </tr>\n",
       "    <tr>\n",
       "      <th>362566</th>\n",
       "      <td>0</td>\n",
       "      <td>27</td>\n",
       "      <td>1</td>\n",
       "      <td>0.0</td>\n",
       "      <td>7.0</td>\n",
       "      <td>5366.0</td>\n",
       "      <td>0</td>\n",
       "      <td>1</td>\n",
       "      <td>19</td>\n",
       "    </tr>\n",
       "    <tr>\n",
       "      <th>362567</th>\n",
       "      <td>0</td>\n",
       "      <td>28</td>\n",
       "      <td>1</td>\n",
       "      <td>0.0</td>\n",
       "      <td>8.0</td>\n",
       "      <td>5366.0</td>\n",
       "      <td>0</td>\n",
       "      <td>1</td>\n",
       "      <td>30</td>\n",
       "    </tr>\n",
       "    <tr>\n",
       "      <th>362568</th>\n",
       "      <td>0</td>\n",
       "      <td>30</td>\n",
       "      <td>1</td>\n",
       "      <td>20.0</td>\n",
       "      <td>0.0</td>\n",
       "      <td>5366.0</td>\n",
       "      <td>1</td>\n",
       "      <td>1</td>\n",
       "      <td>40</td>\n",
       "    </tr>\n",
       "    <tr>\n",
       "      <th>362569</th>\n",
       "      <td>0</td>\n",
       "      <td>31</td>\n",
       "      <td>1</td>\n",
       "      <td>11.0</td>\n",
       "      <td>0.0</td>\n",
       "      <td>5366.0</td>\n",
       "      <td>1</td>\n",
       "      <td>1</td>\n",
       "      <td>37</td>\n",
       "    </tr>\n",
       "    <tr>\n",
       "      <th>...</th>\n",
       "      <td>...</td>\n",
       "      <td>...</td>\n",
       "      <td>...</td>\n",
       "      <td>...</td>\n",
       "      <td>...</td>\n",
       "      <td>...</td>\n",
       "      <td>...</td>\n",
       "      <td>...</td>\n",
       "      <td>...</td>\n",
       "    </tr>\n",
       "    <tr>\n",
       "      <th>10817196</th>\n",
       "      <td>59</td>\n",
       "      <td>22162</td>\n",
       "      <td>33</td>\n",
       "      <td>0.0</td>\n",
       "      <td>7.0</td>\n",
       "      <td>904.0</td>\n",
       "      <td>0</td>\n",
       "      <td>9</td>\n",
       "      <td>40</td>\n",
       "    </tr>\n",
       "    <tr>\n",
       "      <th>10817197</th>\n",
       "      <td>59</td>\n",
       "      <td>22163</td>\n",
       "      <td>33</td>\n",
       "      <td>0.0</td>\n",
       "      <td>20.0</td>\n",
       "      <td>904.0</td>\n",
       "      <td>0</td>\n",
       "      <td>9</td>\n",
       "      <td>40</td>\n",
       "    </tr>\n",
       "    <tr>\n",
       "      <th>10817198</th>\n",
       "      <td>59</td>\n",
       "      <td>22164</td>\n",
       "      <td>33</td>\n",
       "      <td>0.0</td>\n",
       "      <td>9.0</td>\n",
       "      <td>904.0</td>\n",
       "      <td>0</td>\n",
       "      <td>9</td>\n",
       "      <td>37</td>\n",
       "    </tr>\n",
       "    <tr>\n",
       "      <th>10817199</th>\n",
       "      <td>59</td>\n",
       "      <td>22166</td>\n",
       "      <td>33</td>\n",
       "      <td>0.0</td>\n",
       "      <td>5.0</td>\n",
       "      <td>904.0</td>\n",
       "      <td>0</td>\n",
       "      <td>9</td>\n",
       "      <td>54</td>\n",
       "    </tr>\n",
       "    <tr>\n",
       "      <th>10817200</th>\n",
       "      <td>59</td>\n",
       "      <td>22167</td>\n",
       "      <td>33</td>\n",
       "      <td>0.0</td>\n",
       "      <td>21.0</td>\n",
       "      <td>904.0</td>\n",
       "      <td>0</td>\n",
       "      <td>9</td>\n",
       "      <td>49</td>\n",
       "    </tr>\n",
       "  </tbody>\n",
       "</table>\n",
       "<p>10454636 rows × 9 columns</p>\n",
       "</div>"
      ],
      "text/plain": [
       "          shop_id  item_id  date_block_num  target  prev_item_sales  \\\n",
       "362565          0       12               1     0.0              0.0   \n",
       "362566          0       27               1     0.0              7.0   \n",
       "362567          0       28               1     0.0              8.0   \n",
       "362568          0       30               1    20.0              0.0   \n",
       "362569          0       31               1    11.0              0.0   \n",
       "...           ...      ...             ...     ...              ...   \n",
       "10817196       59    22162              33     0.0              7.0   \n",
       "10817197       59    22163              33     0.0             20.0   \n",
       "10817198       59    22164              33     0.0              9.0   \n",
       "10817199       59    22166              33     0.0              5.0   \n",
       "10817200       59    22167              33     0.0             21.0   \n",
       "\n",
       "          prev_shop_sales  is_new_item  month  item_category_id  \n",
       "362565             5366.0            1      1                55  \n",
       "362566             5366.0            0      1                19  \n",
       "362567             5366.0            0      1                30  \n",
       "362568             5366.0            1      1                40  \n",
       "362569             5366.0            1      1                37  \n",
       "...                   ...          ...    ...               ...  \n",
       "10817196            904.0            0      9                40  \n",
       "10817197            904.0            0      9                40  \n",
       "10817198            904.0            0      9                37  \n",
       "10817199            904.0            0      9                54  \n",
       "10817200            904.0            0      9                49  \n",
       "\n",
       "[10454636 rows x 9 columns]"
      ]
     },
     "execution_count": 34,
     "metadata": {},
     "output_type": "execute_result"
    }
   ],
   "source": [
    "train_exp_on_prev"
   ]
  },
  {
   "cell_type": "markdown",
   "metadata": {},
   "source": [
    "## Create final set of features, learn and submit"
   ]
  },
  {
   "cell_type": "markdown",
   "metadata": {},
   "source": [
    "#### Features:\n",
    "1. encoded city of shops\n",
    "2. category_id\n",
    "3. prev month sales of item, shop, category\n",
    "4. Mean Target encoded category_id\n",
    "\n",
    "#### Dataset:\n",
    "1. filled with zero target\n",
    "2. target clipped by 20\n",
    "3. nans replaced with 0.\n",
    "4. created 3 folds: train (date_block_num < 33), val(date_block_num = 33), test (date_block_num = 34)\n",
    "5. stopped fitting when loss started to grow on val split\n",
    "6. for extra items predictions I added 0.3 because predictions on extra items were lower statistically\n",
    "\n",
    "#### Model\n",
    "Tried Random Forest but it is slower and gives lower quality than catboost.\n",
    "For catboost tried different early_stopping_rounds, depth, grow_policy. I found that early_stopping_rounds=5, depth=16 with default grow_policy works best.\n",
    "I could do more but I achived sufficient quality to be accepted by coursera when I was on week 2 or 3 and I stopped continue to work on that problem."
   ]
  },
  {
   "cell_type": "code",
   "execution_count": 2,
   "metadata": {},
   "outputs": [],
   "source": [
    "def add_cum_mean_target_only_pos(data, by):\n",
    "    cumsum = all_data.groupby(by).target.cumsum() - all_data['target']\n",
    "    cumcnt = all_data.loc[all_data['target'] > 0].groupby(by).target.cumcount()\n",
    "    data[by[:-2] + 'target_enc'] = cumsum / cumcnt\n",
    "    data[by[:-2] + 'target_enc'].fillna(0.3343, inplace=True)\n",
    "    return data"
   ]
  },
  {
   "cell_type": "code",
   "execution_count": 9,
   "metadata": {},
   "outputs": [],
   "source": [
    "from sklearn.metrics import mean_squared_error as mse\n",
    "from catboost import CatBoostRegressor\n",
    "from sklearn.preprocessing import LabelEncoder\n",
    "\n",
    "\n",
    "def create_feats(data):\n",
    "    data = add_item_last_stat(data)\n",
    "    data = add_shop_last_stat(data)\n",
    "    data = add_category_last_stat(data)\n",
    "    data = add_cum_mean_target(data, by='item_category_id')\n",
    "    data['is_new_item'] = data.prev_item_sales.isna().astype(int)\n",
    "    return data\n",
    "    \n",
    "\n",
    "\n",
    "def make_test_pred_and_save():\n",
    "    test = pd.read_csv('test.csv')\n",
    "    items = pd.read_csv('items.csv')\n",
    "    shops = pd.read_csv('shops.csv')\n",
    "    shops['city'] = shops['shop_name'].str.split(\" \").map(lambda x: x[0])\n",
    "    shops['city_code'] = LabelEncoder().fit_transform(shops['city'])\n",
    "    test[\"date_block_num\"] = 34\n",
    "    test.drop('ID', axis=1, inplace=True)\n",
    "    all_data = fill_with_0_target(downcast_dtypes(pd.read_csv('sales_train.csv').loc[pd.read_csv('sales_train.csv')['item_price'] < 100000]))\n",
    "    print('all_data initialized')\n",
    "    all_data = pd.concat([all_data, test])\n",
    "    all_data['target'] = all_data['target'].clip(0., 20.)\n",
    "    all_data = pd.merge(all_data, items, how='left', on='item_id').fillna(0.).drop(columns=['item_name'])\n",
    "    all_data = pd.merge(all_data, shops, how='left', on='shop_id').fillna(0.).drop(columns=['shop_name', 'city'])\n",
    "    all_data = create_feats(all_data)\n",
    "    all_data = all_data.fillna(0.)\n",
    "    print('feats are constructed')\n",
    "    train_exp_on_prev = all_data.fillna(0.).loc[(all_data['date_block_num'] > 0) & (all_data['date_block_num'] < 33)]\n",
    "    test = all_data.fillna(0.).loc[all_data['date_block_num'] == 34]\n",
    "    extra_items = set(test.item_id) - set(train_exp_on_prev.item_id)\n",
    "    extra_idces = test.loc[test['item_id'].isin(extra_items)].index - test.index.min()\n",
    "    X_test = np.array(test.drop(['date_block_num', 'target', 'item_id', 'shop_id'], axis=1))\n",
    "    train = train_exp_on_prev\n",
    "    val = all_data.loc[all_data['date_block_num'] == 33]\n",
    "    extra_items_val = set(val.item_id) - set(train.item_id)\n",
    "    extra_idces_val = val.loc[val['item_id'].isin(extra_items_val)].index - val.index.min()\n",
    "    val = get_new_val(val, extra_items_val, extra_idces_val).reset_index(drop=True)\n",
    "    X_train = np.array(train.drop(['date_block_num', 'target', 'item_id', 'shop_id'], axis=1))\n",
    "    X_val = np.array(val.drop(['date_block_num', 'target', 'item_id', 'shop_id'], axis=1))\n",
    "    y_train, y_val = np.array(train['target']), np.array(val['target'])\n",
    "    print('learning started')\n",
    "    model = CatBoostRegressor(depth=16)\n",
    "    model.fit(X_train, y_train, eval_set=(X_val, y_val), early_stopping_rounds=5, silent=True)\n",
    "    print(mse(np.clip(model.predict(X_val), 0, 20), y_val, squared=False))\n",
    "\n",
    "    preds = model.predict(X_test)\n",
    "    preds[extra_idces] += 0.3\n",
    "    preds = np.clip(preds, 0, 20)\n",
    "    test_pred = pd.read_csv('test.csv')\n",
    "    submission = test_pred.loc[:,['ID']]\n",
    "    submission['item_cnt_month'] = preds\n",
    "    submission.to_csv('submission.csv', index=False)\n",
    "    return model"
   ]
  },
  {
   "cell_type": "markdown",
   "metadata": {},
   "source": [
    "#### Some Experiments"
   ]
  },
  {
   "cell_type": "code",
   "execution_count": 64,
   "metadata": {},
   "outputs": [
    {
     "name": "stdout",
     "output_type": "stream",
     "text": [
      "all_data initialized\n",
      "feats are constructed\n",
      "learning started\n",
      "0.9856962303222733\n"
     ]
    }
   ],
   "source": [
    "make_test_pred_and_save()"
   ]
  },
  {
   "cell_type": "code",
   "execution_count": 11,
   "metadata": {
    "scrolled": true
   },
   "outputs": [
    {
     "name": "stdout",
     "output_type": "stream",
     "text": [
      "all_data initialized\n",
      "feats are constructed\n",
      "learning started\n",
      "0.9620667865839291\n"
     ]
    }
   ],
   "source": [
    "make_test_pred_and_save()"
   ]
  },
  {
   "cell_type": "code",
   "execution_count": 15,
   "metadata": {},
   "outputs": [
    {
     "name": "stdout",
     "output_type": "stream",
     "text": [
      "all_data initialized\n",
      "feats are constructed\n",
      "learning started\n",
      "0.9670867593769187\n"
     ]
    }
   ],
   "source": [
    "model = make_test_pred_and_save()"
   ]
  },
  {
   "cell_type": "markdown",
   "metadata": {},
   "source": [
    "#### Experiments finished"
   ]
  },
  {
   "cell_type": "code",
   "execution_count": 29,
   "metadata": {},
   "outputs": [
    {
     "name": "stdout",
     "output_type": "stream",
     "text": [
      "all_data initialized\n",
      "feats are constructed\n",
      "learning started\n",
      "0.9216629311754139\n"
     ]
    }
   ],
   "source": [
    "model = make_test_pred_and_save()"
   ]
  },
  {
   "cell_type": "code",
   "execution_count": 30,
   "metadata": {},
   "outputs": [],
   "source": [
    "model.save_model('catboost_final')"
   ]
  },
  {
   "cell_type": "code",
   "execution_count": 33,
   "metadata": {},
   "outputs": [],
   "source": [
    "def restore_model():\n",
    "    from_file = CatBoostRegressor()\n",
    "    from_file.load_model(\"catboost_final\")\n",
    "    return from_file\n",
    "\n",
    "restored_model = restore_model()"
   ]
  },
  {
   "cell_type": "code",
   "execution_count": 16,
   "metadata": {
    "scrolled": true
   },
   "outputs": [
    {
     "name": "stdout",
     "output_type": "stream",
     "text": [
      "feat importancies:  [ 7.33987337 49.774018   23.58131256  6.09756225  9.43243823  3.7747956 ]\n"
     ]
    }
   ],
   "source": [
    "print('feat importancies: ', model.feature_importances_)"
   ]
  },
  {
   "cell_type": "markdown",
   "metadata": {},
   "source": [
    "Quality achieved on public leaderbord 0.994984, On private 0.994627.\n",
    "That means that algo didnt overfit"
   ]
  },
  {
   "cell_type": "code",
   "execution_count": null,
   "metadata": {},
   "outputs": [],
   "source": []
  }
 ],
 "metadata": {
  "kernelspec": {
   "display_name": "Python 3",
   "language": "python",
   "name": "python3"
  },
  "language_info": {
   "codemirror_mode": {
    "name": "ipython",
    "version": 3
   },
   "file_extension": ".py",
   "mimetype": "text/x-python",
   "name": "python",
   "nbconvert_exporter": "python",
   "pygments_lexer": "ipython3",
   "version": "3.7.3"
  }
 },
 "nbformat": 4,
 "nbformat_minor": 4
}
