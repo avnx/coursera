{
 "cells": [
  {
   "cell_type": "code",
   "execution_count": 1,
   "metadata": {},
   "outputs": [
    {
     "name": "stdout",
     "output_type": "stream",
     "text": [
      "Populating the interactive namespace from numpy and matplotlib\n"
     ]
    }
   ],
   "source": [
    "import seaborn as sns\n",
    "from copy import deepcopy\n",
    "import pandas as pd\n",
    "from tqdm import tqdm\n",
    "%pylab inline"
   ]
  },
  {
   "cell_type": "code",
   "execution_count": 2,
   "metadata": {},
   "outputs": [],
   "source": [
    "from itertools import product\n",
    "from modules import downcast_dtypes, get_split_points, get_train_val, \\\n",
    "                    add_shop_last_stat, add_item_last_stat, fit_and_eval, fill_with_0_target"
   ]
  },
  {
   "cell_type": "code",
   "execution_count": 3,
   "metadata": {},
   "outputs": [],
   "source": [
    "all_data = fill_with_0_target(downcast_dtypes(pd.read_csv('sales_train.csv')))"
   ]
  },
  {
   "cell_type": "code",
   "execution_count": 4,
   "metadata": {},
   "outputs": [],
   "source": [
    "all_data['target'] = all_data['target'].clip(0., 20.)\n",
    "all_data = add_item_last_stat(all_data)\n",
    "all_data = add_shop_last_stat(all_data)"
   ]
  },
  {
   "cell_type": "code",
   "execution_count": 5,
   "metadata": {},
   "outputs": [],
   "source": [
    "all_data['is_new_item'] = all_data.prev_item_sales.isna().astype(int)"
   ]
  },
  {
   "cell_type": "code",
   "execution_count": 6,
   "metadata": {},
   "outputs": [],
   "source": [
    "all_data['month'] = all_data['date_block_num'] % 12"
   ]
  },
  {
   "cell_type": "code",
   "execution_count": 13,
   "metadata": {},
   "outputs": [
    {
     "data": {
      "text/html": [
       "<div>\n",
       "<style scoped>\n",
       "    .dataframe tbody tr th:only-of-type {\n",
       "        vertical-align: middle;\n",
       "    }\n",
       "\n",
       "    .dataframe tbody tr th {\n",
       "        vertical-align: top;\n",
       "    }\n",
       "\n",
       "    .dataframe thead th {\n",
       "        text-align: right;\n",
       "    }\n",
       "</style>\n",
       "<table border=\"1\" class=\"dataframe\">\n",
       "  <thead>\n",
       "    <tr style=\"text-align: right;\">\n",
       "      <th></th>\n",
       "      <th>shop_id</th>\n",
       "      <th>item_id</th>\n",
       "      <th>date_block_num</th>\n",
       "      <th>target</th>\n",
       "      <th>prev_item_sales</th>\n",
       "      <th>prev_shop_sales</th>\n",
       "      <th>is_new_item</th>\n",
       "      <th>month</th>\n",
       "    </tr>\n",
       "  </thead>\n",
       "  <tbody>\n",
       "    <tr>\n",
       "      <th>0</th>\n",
       "      <td>0</td>\n",
       "      <td>19</td>\n",
       "      <td>0</td>\n",
       "      <td>0.0</td>\n",
       "      <td>NaN</td>\n",
       "      <td>NaN</td>\n",
       "      <td>1</td>\n",
       "      <td>0</td>\n",
       "    </tr>\n",
       "    <tr>\n",
       "      <th>1</th>\n",
       "      <td>0</td>\n",
       "      <td>27</td>\n",
       "      <td>0</td>\n",
       "      <td>0.0</td>\n",
       "      <td>NaN</td>\n",
       "      <td>NaN</td>\n",
       "      <td>1</td>\n",
       "      <td>0</td>\n",
       "    </tr>\n",
       "    <tr>\n",
       "      <th>2</th>\n",
       "      <td>0</td>\n",
       "      <td>28</td>\n",
       "      <td>0</td>\n",
       "      <td>0.0</td>\n",
       "      <td>NaN</td>\n",
       "      <td>NaN</td>\n",
       "      <td>1</td>\n",
       "      <td>0</td>\n",
       "    </tr>\n",
       "    <tr>\n",
       "      <th>3</th>\n",
       "      <td>0</td>\n",
       "      <td>29</td>\n",
       "      <td>0</td>\n",
       "      <td>0.0</td>\n",
       "      <td>NaN</td>\n",
       "      <td>NaN</td>\n",
       "      <td>1</td>\n",
       "      <td>0</td>\n",
       "    </tr>\n",
       "    <tr>\n",
       "      <th>4</th>\n",
       "      <td>0</td>\n",
       "      <td>32</td>\n",
       "      <td>0</td>\n",
       "      <td>6.0</td>\n",
       "      <td>NaN</td>\n",
       "      <td>NaN</td>\n",
       "      <td>1</td>\n",
       "      <td>0</td>\n",
       "    </tr>\n",
       "    <tr>\n",
       "      <th>...</th>\n",
       "      <td>...</td>\n",
       "      <td>...</td>\n",
       "      <td>...</td>\n",
       "      <td>...</td>\n",
       "      <td>...</td>\n",
       "      <td>...</td>\n",
       "      <td>...</td>\n",
       "      <td>...</td>\n",
       "    </tr>\n",
       "    <tr>\n",
       "      <th>10913845</th>\n",
       "      <td>59</td>\n",
       "      <td>22162</td>\n",
       "      <td>33</td>\n",
       "      <td>0.0</td>\n",
       "      <td>7.0</td>\n",
       "      <td>914.0</td>\n",
       "      <td>0</td>\n",
       "      <td>9</td>\n",
       "    </tr>\n",
       "    <tr>\n",
       "      <th>10913846</th>\n",
       "      <td>59</td>\n",
       "      <td>22163</td>\n",
       "      <td>33</td>\n",
       "      <td>0.0</td>\n",
       "      <td>20.0</td>\n",
       "      <td>914.0</td>\n",
       "      <td>0</td>\n",
       "      <td>9</td>\n",
       "    </tr>\n",
       "    <tr>\n",
       "      <th>10913847</th>\n",
       "      <td>59</td>\n",
       "      <td>22164</td>\n",
       "      <td>33</td>\n",
       "      <td>0.0</td>\n",
       "      <td>9.0</td>\n",
       "      <td>914.0</td>\n",
       "      <td>0</td>\n",
       "      <td>9</td>\n",
       "    </tr>\n",
       "    <tr>\n",
       "      <th>10913848</th>\n",
       "      <td>59</td>\n",
       "      <td>22166</td>\n",
       "      <td>33</td>\n",
       "      <td>0.0</td>\n",
       "      <td>5.0</td>\n",
       "      <td>914.0</td>\n",
       "      <td>0</td>\n",
       "      <td>9</td>\n",
       "    </tr>\n",
       "    <tr>\n",
       "      <th>10913849</th>\n",
       "      <td>59</td>\n",
       "      <td>22167</td>\n",
       "      <td>33</td>\n",
       "      <td>0.0</td>\n",
       "      <td>21.0</td>\n",
       "      <td>914.0</td>\n",
       "      <td>0</td>\n",
       "      <td>9</td>\n",
       "    </tr>\n",
       "  </tbody>\n",
       "</table>\n",
       "<p>10913850 rows × 8 columns</p>\n",
       "</div>"
      ],
      "text/plain": [
       "          shop_id  item_id  date_block_num  target  prev_item_sales  \\\n",
       "0               0       19               0     0.0              NaN   \n",
       "1               0       27               0     0.0              NaN   \n",
       "2               0       28               0     0.0              NaN   \n",
       "3               0       29               0     0.0              NaN   \n",
       "4               0       32               0     6.0              NaN   \n",
       "...           ...      ...             ...     ...              ...   \n",
       "10913845       59    22162              33     0.0              7.0   \n",
       "10913846       59    22163              33     0.0             20.0   \n",
       "10913847       59    22164              33     0.0              9.0   \n",
       "10913848       59    22166              33     0.0              5.0   \n",
       "10913849       59    22167              33     0.0             21.0   \n",
       "\n",
       "          prev_shop_sales  is_new_item  month  \n",
       "0                     NaN            1      0  \n",
       "1                     NaN            1      0  \n",
       "2                     NaN            1      0  \n",
       "3                     NaN            1      0  \n",
       "4                     NaN            1      0  \n",
       "...                   ...          ...    ...  \n",
       "10913845            914.0            0      9  \n",
       "10913846            914.0            0      9  \n",
       "10913847            914.0            0      9  \n",
       "10913848            914.0            0      9  \n",
       "10913849            914.0            0      9  \n",
       "\n",
       "[10913850 rows x 8 columns]"
      ]
     },
     "execution_count": 13,
     "metadata": {},
     "output_type": "execute_result"
    }
   ],
   "source": [
    "all_data"
   ]
  },
  {
   "cell_type": "code",
   "execution_count": 7,
   "metadata": {},
   "outputs": [],
   "source": [
    "train_exp_on_prev = all_data.fillna(0.).loc[(all_data['date_block_num'] > 0) & (all_data['date_block_num'] < 34)]"
   ]
  },
  {
   "cell_type": "code",
   "execution_count": 6,
   "metadata": {},
   "outputs": [
    {
     "name": "stdout",
     "output_type": "stream",
     "text": [
      "new column is new item & clipped in the beginning & new preds on new items\n",
      "Model:  cbr\n",
      "feat importancies:  [63.80836652 36.19163348]\n",
      "rmse on val:  [0.8948821979244631, 0.8438046966904319, 0.914010189369227, 1.0094828767568076, 1.021757413476581]\n"
     ]
    }
   ],
   "source": [
    "print('new column is new item & clipped in the beginning & new preds on new items')\n",
    "model =  fit_and_eval(train_exp_on_prev, algo='cbr')"
   ]
  },
  {
   "cell_type": "code",
   "execution_count": 7,
   "metadata": {},
   "outputs": [
    {
     "name": "stdout",
     "output_type": "stream",
     "text": [
      "new column is new item & clipped in the beginning & new preds on new items\n",
      "Model:  cbr\n",
      "feat importancies:  [63.61033711 35.61791032  0.77175257]\n",
      "rmse on val:  [0.8946835462558848, 0.8449663860569778, 0.9150848322922248, 1.0097987159328803, 1.0224870404422972]\n"
     ]
    }
   ],
   "source": [
    "all_data['is_new_item'] = all_data.prev_item_sales.isna().astype(int)\n",
    "train_exp_on_prev = all_data.fillna(0.).loc[(all_data['date_block_num'] > 0) & (all_data['date_block_num'] < 34)]\n",
    "print('new column is new item & clipped in the beginning & new preds on new items')\n",
    "model =  fit_and_eval(train_exp_on_prev, algo='cbr')"
   ]
  },
  {
   "cell_type": "code",
   "execution_count": 6,
   "metadata": {},
   "outputs": [
    {
     "name": "stdout",
     "output_type": "stream",
     "text": [
      "без добавления сдвига\n",
      "Model:  cbr\n",
      "feat importancies:  [63.61033711 35.61791032  0.77175257]\n",
      "rmse on val:  [0.8982538195209541, 0.8453305235080384, 0.9169218184580411, 1.0157715914341514, 1.0264247548524104]\n"
     ]
    }
   ],
   "source": [
    "all_data['is_new_item'] = all_data.prev_item_sales.isna().astype(int)\n",
    "train_exp_on_prev = all_data.fillna(0.).loc[(all_data['date_block_num'] > 0) & (all_data['date_block_num'] < 34)]\n",
    "print('без добавления сдвига')\n",
    "model =  fit_and_eval(train_exp_on_prev, algo='cbr')"
   ]
  },
  {
   "cell_type": "code",
   "execution_count": 7,
   "metadata": {},
   "outputs": [
    {
     "name": "stdout",
     "output_type": "stream",
     "text": [
      "поиск лучшей итерации\n",
      "Model:  cbr\n",
      "feat importancies:  [63.61033711 35.61791032  0.77175257]\n",
      "rmse on val:  [0.8946835462558848, 0.8449663860569778, 0.9150848322922248, 1.0097987159328803, 1.0224870404422972]\n",
      "best iterations:  [42, 23, 19, 31, 23]\n"
     ]
    }
   ],
   "source": [
    "print('поиск лучшей итерации')\n",
    "model =  fit_and_eval(train_exp_on_prev, algo='cbr')"
   ]
  },
  {
   "cell_type": "code",
   "execution_count": 7,
   "metadata": {},
   "outputs": [
    {
     "name": "stdout",
     "output_type": "stream",
     "text": [
      "early_stopping_rounds=15 instead of 5\n",
      "Model:  cbr\n",
      "feat importancies:  [63.13020066 36.0973458   0.77245354]\n",
      "rmse on val:  [0.8941171319673156, 0.8449663860569778, 0.9129942460401448, 1.0076599251285696, 1.0212269073484361]\n",
      "best iterations:  [54, 23, 90, 169, 53]\n"
     ]
    }
   ],
   "source": [
    "print('early_stopping_rounds=15 instead of 5')\n",
    "model =  fit_and_eval(train_exp_on_prev, algo='cbr')"
   ]
  },
  {
   "cell_type": "code",
   "execution_count": 7,
   "metadata": {},
   "outputs": [
    {
     "name": "stdout",
     "output_type": "stream",
     "text": [
      "early_stopping_rounds=20\n",
      "Model:  cbr\n",
      "feat importancies:  [63.13020066 36.0973458   0.77245354]\n",
      "rmse on val:  [0.8941171319673156, 0.8449663860569778, 0.9125872402509089, 1.0071741666327425, 1.0212269073484361]\n",
      "best iterations:  [54, 23, 116, 260, 53]\n"
     ]
    }
   ],
   "source": [
    "print('early_stopping_rounds=20')\n",
    "model =  fit_and_eval(train_exp_on_prev, algo='cbr',early_stopping_rounds=20)"
   ]
  },
  {
   "cell_type": "code",
   "execution_count": 8,
   "metadata": {},
   "outputs": [
    {
     "name": "stdout",
     "output_type": "stream",
     "text": [
      "early_stopping_rounds=25\n",
      "Model:  cbr\n",
      "feat importancies:  [63.13020066 36.0973458   0.77245354]\n",
      "rmse on val:  [0.8941171319673156, 0.8449663860569778, 0.9123446653199095, 1.0071741666327425, 1.0212269073484361]\n",
      "best iterations:  [54, 23, 154, 260, 53]\n"
     ]
    }
   ],
   "source": [
    "print('early_stopping_rounds=25')\n",
    "model =  fit_and_eval(train_exp_on_prev, algo='cbr',early_stopping_rounds=25)"
   ]
  },
  {
   "cell_type": "code",
   "execution_count": 9,
   "metadata": {},
   "outputs": [
    {
     "name": "stdout",
     "output_type": "stream",
     "text": [
      "early_stopping_rounds=30\n",
      "Model:  cbr\n",
      "feat importancies:  [63.13020066 36.0973458   0.77245354]\n",
      "rmse on val:  [0.8941171319673156, 0.8449663860569778, 0.9123446653199095, 1.0071741666327425, 1.0212269073484361]\n",
      "best iterations:  [54, 23, 154, 260, 53]\n"
     ]
    }
   ],
   "source": [
    "print('early_stopping_rounds=30')\n",
    "model =  fit_and_eval(train_exp_on_prev, algo='cbr',early_stopping_rounds=30)"
   ]
  },
  {
   "cell_type": "code",
   "execution_count": 15,
   "metadata": {},
   "outputs": [
    {
     "name": "stdout",
     "output_type": "stream",
     "text": [
      "new columnt month number\n",
      "Model:  cbr\n",
      "feat importancies:  [60.09307402 32.15906557  0.4225892   7.32527122]\n",
      "rmse on val:  [0.8795152087449202, 0.8290601462252336, 0.8977896626912084, 1.0048685220782843, 1.0196910351788655]\n",
      "best iterations:  [38, 27, 38, 13, 18]\n"
     ]
    }
   ],
   "source": [
    "print('new columnt month number')\n",
    "model =  fit_and_eval(train_exp_on_prev, algo='cbr',early_stopping_rounds=5)"
   ]
  },
  {
   "cell_type": "code",
   "execution_count": 13,
   "metadata": {},
   "outputs": [],
   "source": [
    "def get_new_val(val, extra_items, extra_idces):\n",
    "    if len(extra_idces) / len(val) < 0.071:\n",
    "        new_n_old_objects = int(len(extra_idces) / 0.071 - len(extra_idces))\n",
    "        new_val = val.loc[~val['item_id'].isin(extra_items)]\n",
    "        drop_indices = np.random.choice(new_val.index, len(new_val) - new_n_old_objects, replace=False)\n",
    "        new_val = val.drop(drop_indices)\n",
    "    else:\n",
    "        n_old_objects = len(val.loc[~val['item_id'].isin(extra_items)])\n",
    "        new_n_new_objects = int(n_old_objects * 0.071 / (1 - 0.071 ))\n",
    "        new_val = val.loc[val['item_id'].isin(extra_items)]\n",
    "        drop_indices = np.random.choice(new_val.index, len(new_val) - new_n_new_objects, replace=False)\n",
    "        new_val = val.drop(drop_indices)\n",
    "    return new_val"
   ]
  },
  {
   "cell_type": "code",
   "execution_count": 8,
   "metadata": {},
   "outputs": [
    {
     "name": "stdout",
     "output_type": "stream",
     "text": [
      "одинаковая доля новых объектов в val\n"
     ]
    },
    {
     "ename": "IndexError",
     "evalue": "index 151445 is out of bounds for axis 0 with size 151408",
     "output_type": "error",
     "traceback": [
      "\u001b[0;31m---------------------------------------------------------------------------\u001b[0m",
      "\u001b[0;31mIndexError\u001b[0m                                Traceback (most recent call last)",
      "\u001b[0;32m<ipython-input-8-3bf63197b0a9>\u001b[0m in \u001b[0;36m<module>\u001b[0;34m\u001b[0m\n\u001b[1;32m      1\u001b[0m \u001b[0mprint\u001b[0m\u001b[0;34m(\u001b[0m\u001b[0;34m'одинаковая доля новых объектов в val'\u001b[0m\u001b[0;34m)\u001b[0m\u001b[0;34m\u001b[0m\u001b[0;34m\u001b[0m\u001b[0m\n\u001b[0;32m----> 2\u001b[0;31m \u001b[0mmodel\u001b[0m \u001b[0;34m=\u001b[0m  \u001b[0mfit_and_eval\u001b[0m\u001b[0;34m(\u001b[0m\u001b[0mtrain_exp_on_prev\u001b[0m\u001b[0;34m,\u001b[0m \u001b[0malgo\u001b[0m\u001b[0;34m=\u001b[0m\u001b[0;34m'cbr'\u001b[0m\u001b[0;34m,\u001b[0m\u001b[0mearly_stopping_rounds\u001b[0m\u001b[0;34m=\u001b[0m\u001b[0;36m5\u001b[0m\u001b[0;34m)\u001b[0m\u001b[0;34m\u001b[0m\u001b[0;34m\u001b[0m\u001b[0m\n\u001b[0m",
      "\u001b[0;32m~/projects/kaggle/competitive-data-science-predict-future-sales/modules.py\u001b[0m in \u001b[0;36mfit_and_eval\u001b[0;34m(data, algo, early_stopping_rounds)\u001b[0m\n\u001b[1;32m    111\u001b[0m         \u001b[0mpreds\u001b[0m \u001b[0;34m=\u001b[0m \u001b[0mmodel\u001b[0m\u001b[0;34m.\u001b[0m\u001b[0mpredict\u001b[0m\u001b[0;34m(\u001b[0m\u001b[0mX_val\u001b[0m\u001b[0;34m)\u001b[0m\u001b[0;34m\u001b[0m\u001b[0;34m\u001b[0m\u001b[0m\n\u001b[1;32m    112\u001b[0m         \u001b[0mextra_idces\u001b[0m \u001b[0;34m=\u001b[0m \u001b[0mval\u001b[0m\u001b[0;34m.\u001b[0m\u001b[0mloc\u001b[0m\u001b[0;34m[\u001b[0m\u001b[0mval\u001b[0m\u001b[0;34m[\u001b[0m\u001b[0;34m'item_id'\u001b[0m\u001b[0;34m]\u001b[0m\u001b[0;34m.\u001b[0m\u001b[0misin\u001b[0m\u001b[0;34m(\u001b[0m\u001b[0mextra_items\u001b[0m\u001b[0;34m)\u001b[0m\u001b[0;34m]\u001b[0m\u001b[0;34m.\u001b[0m\u001b[0mindex\u001b[0m \u001b[0;34m-\u001b[0m \u001b[0mval\u001b[0m\u001b[0;34m.\u001b[0m\u001b[0mindex\u001b[0m\u001b[0;34m.\u001b[0m\u001b[0mmin\u001b[0m\u001b[0;34m(\u001b[0m\u001b[0;34m)\u001b[0m\u001b[0;34m\u001b[0m\u001b[0;34m\u001b[0m\u001b[0m\n\u001b[0;32m--> 113\u001b[0;31m         \u001b[0mpreds\u001b[0m\u001b[0;34m[\u001b[0m\u001b[0mextra_idces\u001b[0m\u001b[0;34m]\u001b[0m \u001b[0;34m+=\u001b[0m \u001b[0;36m0.3\u001b[0m\u001b[0;34m\u001b[0m\u001b[0;34m\u001b[0m\u001b[0m\n\u001b[0m\u001b[1;32m    114\u001b[0m         \u001b[0mval_results\u001b[0m\u001b[0;34m.\u001b[0m\u001b[0mappend\u001b[0m\u001b[0;34m(\u001b[0m\u001b[0mmse\u001b[0m\u001b[0;34m(\u001b[0m\u001b[0mpreds\u001b[0m\u001b[0;34m,\u001b[0m \u001b[0my_val\u001b[0m\u001b[0;34m,\u001b[0m \u001b[0msquared\u001b[0m\u001b[0;34m=\u001b[0m\u001b[0;32mFalse\u001b[0m\u001b[0;34m)\u001b[0m\u001b[0;34m)\u001b[0m\u001b[0;34m\u001b[0m\u001b[0;34m\u001b[0m\u001b[0m\n\u001b[1;32m    115\u001b[0m         \u001b[0mbest_iterations\u001b[0m\u001b[0;34m.\u001b[0m\u001b[0mappend\u001b[0m\u001b[0;34m(\u001b[0m\u001b[0mmodel\u001b[0m\u001b[0;34m.\u001b[0m\u001b[0mbest_iteration_\u001b[0m\u001b[0;34m)\u001b[0m\u001b[0;34m\u001b[0m\u001b[0;34m\u001b[0m\u001b[0m\n",
      "\u001b[0;31mIndexError\u001b[0m: index 151445 is out of bounds for axis 0 with size 151408"
     ]
    }
   ],
   "source": [
    "print('одинаковая доля новых объектов в val')\n",
    "model =  fit_and_eval(train_exp_on_prev, algo='cbr',early_stopping_rounds=5)"
   ]
  },
  {
   "cell_type": "code",
   "execution_count": 22,
   "metadata": {},
   "outputs": [],
   "source": [
    "np.random.seed(0)"
   ]
  },
  {
   "cell_type": "code",
   "execution_count": 26,
   "metadata": {},
   "outputs": [
    {
     "name": "stdout",
     "output_type": "stream",
     "text": [
      "0.4459120998892614 0.53506976\n",
      "0.4585890309292959 0.33630615\n",
      "0.44808533731706396 0.4061128\n",
      "0.463247279986679 0.6572463\n",
      "0.46264647822340216 0.45475358\n",
      "[0.9313986660215645, 0.8647027127711335, 0.9199422921270752, 1.042906445496812, 0.9905305770985784]\n"
     ]
    }
   ],
   "source": [
    "from sklearn.metrics import mean_squared_error as mse\n",
    "from catboost import CatBoostRegressor\n",
    "\n",
    "data = train_exp_on_prev\n",
    "train_split_points, val_split_points = get_split_points(data)\n",
    "\n",
    "algo = 'cbr'\n",
    "early_stopping_rounds=1\n",
    "val_results = []\n",
    "best_iterations = []\n",
    "vals = []\n",
    "for train, val in get_train_val(data, train_split_points, val_split_points):\n",
    "    extra_items = set(val.item_id) - set(train.item_id)\n",
    "    extra_idces = val.loc[val['item_id'].isin(extra_items)].index - val.index.min()\n",
    "    val = get_new_val(val, extra_items, extra_idces).reset_index(drop=True)\n",
    "    vals.append(val)\n",
    "    X_train = np.array(train.drop(['date_block_num', 'target', 'item_id', 'shop_id'], axis=1))\n",
    "    X_val = np.array(val.drop(['date_block_num', 'target', 'item_id', 'shop_id'], axis=1))\n",
    "    y_train, y_val = np.array(train['target']), np.array(val['target'])\n",
    "    if algo == 'rfr':\n",
    "        model = RandomForestRegressor(n_estimators=64, n_jobs=-1)\n",
    "        model.fit(X_train, y_train)\n",
    "    else:\n",
    "        model = CatBoostRegressor()\n",
    "        model.fit(X_train, y_train, eval_set=(X_val, y_val), early_stopping_rounds=early_stopping_rounds, silent=True)\n",
    "    preds = model.predict(X_val)\n",
    "    extra_idces = val.loc[val['item_id'].isin(extra_items)].index - val.index.min()\n",
    "    preds[extra_idces] += 0.3\n",
    "    val_results.append(mse(preds, y_val, squared=False))\n",
    "    best_iterations.append(model.best_iteration_)\n",
    "    print(preds[extra_idces].mean(), val.loc[extra_idces].target.mean())\n",
    "print(val_results)"
   ]
  },
  {
   "cell_type": "code",
   "execution_count": 41,
   "metadata": {},
   "outputs": [
    {
     "data": {
      "text/plain": [
       "1.0035634997870535"
      ]
     },
     "execution_count": 41,
     "metadata": {},
     "output_type": "execute_result"
    }
   ],
   "source": [
    "mse(model.predict(X_train), y_train, squared=False)"
   ]
  },
  {
   "cell_type": "code",
   "execution_count": 42,
   "metadata": {},
   "outputs": [],
   "source": [
    "new_X = model.predict(X_train)"
   ]
  },
  {
   "cell_type": "code",
   "execution_count": 44,
   "metadata": {},
   "outputs": [
    {
     "data": {
      "text/plain": [
       "array([     1,    160,    163, ..., 233763, 233765, 233767])"
      ]
     },
     "execution_count": 44,
     "metadata": {},
     "output_type": "execute_result"
    }
   ],
   "source": [
    "np.where(y_val == 1.)[0]"
   ]
  },
  {
   "cell_type": "code",
   "execution_count": null,
   "metadata": {},
   "outputs": [],
   "source": [
    "model = CatBoostRegressor()\n",
    "model.fit(X_train, y_train, eval_set=(X_val, y_val), early_stopping_rounds=early_stopping_rounds, silent=True)"
   ]
  },
  {
   "cell_type": "code",
   "execution_count": 47,
   "metadata": {},
   "outputs": [
    {
     "data": {
      "text/plain": [
       "(0.0, 3000.0)"
      ]
     },
     "execution_count": 47,
     "metadata": {},
     "output_type": "execute_result"
    },
    {
     "data": {
      "image/png": "[encoded data removed]",
      "text/plain": [
       "<Figure size 1152x360 with 1 Axes>"
      ]
     },
     "metadata": {
      "needs_background": "light"
     },
     "output_type": "display_data"
    }
   ],
   "source": [
    "plt.figure(figsize=(16, 5))\n",
    "sns.histplot(preds[np.where(y_val == 3.)[0]])\n",
    "plt.xlim([0, 5])\n",
    "plt.ylim([0, 3000])"
   ]
  },
  {
   "cell_type": "code",
   "execution_count": 36,
   "metadata": {},
   "outputs": [
    {
     "data": {
      "text/plain": [
       "[151408, 124760, 166816, 182901, 233782]"
      ]
     },
     "execution_count": 36,
     "metadata": {},
     "output_type": "execute_result"
    }
   ],
   "source": [
    "[len(el) for el in vals]"
   ]
  },
  {
   "cell_type": "code",
   "execution_count": 35,
   "metadata": {},
   "outputs": [
    {
     "data": {
      "text/plain": [
       "<AxesSubplot:xlabel='shop_id', ylabel='Count'>"
      ]
     },
     "execution_count": 35,
     "metadata": {},
     "output_type": "execute_result"
    },
    {
     "data": {
      "image/png": "[encoded data removed]",
      "text/plain": [
       "<Figure size 1152x360 with 1 Axes>"
      ]
     },
     "metadata": {
      "needs_background": "light"
     },
     "output_type": "display_data"
    }
   ],
   "source": [
    "plt.figure(figsize=(16, 5))\n",
    "sns.histplot(vals[0].shop_id, color='b', bins=60)\n",
    "sns.histplot(vals[1].shop_id, color='r', bins=60)\n",
    "sns.histplot(vals[3].shop_id, color='y', bins=60)"
   ]
  },
  {
   "cell_type": "code",
   "execution_count": 28,
   "metadata": {},
   "outputs": [
    {
     "data": {
      "text/plain": [
       "23"
      ]
     },
     "execution_count": 28,
     "metadata": {},
     "output_type": "execute_result"
    }
   ],
   "source": [
    "model.best_iteration_"
   ]
  },
  {
   "cell_type": "code",
   "execution_count": null,
   "metadata": {},
   "outputs": [],
   "source": [
    "from sklearn.metrics import mean_squared_error as mse\n",
    "from catboost import CatBoostRegressor\n",
    "\n",
    "\n",
    "def make_test_pred_and_save():\n",
    "    test = pd.read_csv('test.csv')\n",
    "    test[\"date_block_num\"] = 34\n",
    "    test.drop('ID', axis=1, inplace=True)\n",
    "    all_data = fill_with_0_target(downcast_dtypes(pd.read_csv('sales_train.csv')))\n",
    "    all_data = pd.concat([all_data, test])\n",
    "    all_data['target'] = all_data['target'].clip(0., 20.)\n",
    "    all_data = add_item_last_stat(all_data)\n",
    "    all_data = add_shop_last_stat(all_data)\n",
    "    all_data['is_new_item'] = all_data.prev_item_sales.isna().astype(int)\n",
    "    print('feats are constructed')\n",
    "    train_exp_on_prev = all_data.fillna(0.).loc[(all_data['date_block_num'] > 0) & (all_data['date_block_num'] < 34)]\n",
    "    test = all_data.fillna(0.).loc[all_data['date_block_num'] == 34]\n",
    "    extra_items = set(test.item_id) - set(train_exp_on_prev.item_id)\n",
    "    extra_idces = test.loc[test['item_id'].isin(extra_items)].index - test.index.min()\n",
    "    X_test = np.array(test.drop(['date_block_num', 'target', 'item_id', 'shop_id'], axis=1))\n",
    "    for train, val in get_train_val(train_exp_on_prev, *get_split_points(train_exp_on_prev)):\n",
    "        pass\n",
    "    X_train = np.array(train.drop(['date_block_num', 'target', 'item_id', 'shop_id'], axis=1))\n",
    "    X_val = np.array(val.drop(['date_block_num', 'target', 'item_id', 'shop_id'], axis=1))\n",
    "    y_train, y_val = np.array(train['target']), np.array(val['target'])\n",
    "    model = CatBoostRegressor()\n",
    "    model.fit(X_train, y_train, eval_set=(X_val, y_val), early_stopping_rounds=5, silent=True)\n",
    "\n",
    "    preds = model.predict(X_test)\n",
    "    preds[extra_idces] += 0.3\n",
    "    test_pred = pd.read_csv('test.csv')\n",
    "    submission = test_pred.loc[:,['ID']]\n",
    "    submission['item_cnt_month'] = preds\n",
    "    submission.to_csv('submission.csv', index=False)\n",
    "    \n",
    "    \n",
    "    \n",
    "\n",
    "\n",
    "# print(mse(model.predict(X_val), np.array(y_val), squared=False))"
   ]
  },
  {
   "cell_type": "code",
   "execution_count": 18,
   "metadata": {},
   "outputs": [
    {
     "name": "stdout",
     "output_type": "stream",
     "text": [
      "0.0711764705882353\n"
     ]
    }
   ],
   "source": [
    "test = pd.read_csv('test.csv')\n",
    "extra_items = set(test.item_id) - set(all_data.item_id)\n",
    "extra_idces = test.loc[test['item_id'].isin(extra_items)].index - test.index.min()\n",
    "print(len(extra_idces) / len(test))"
   ]
  },
  {
   "cell_type": "code",
   "execution_count": null,
   "metadata": {},
   "outputs": [],
   "source": [
    "len(extra_items)"
   ]
  },
  {
   "cell_type": "code",
   "execution_count": 17,
   "metadata": {},
   "outputs": [
    {
     "name": "stdout",
     "output_type": "stream",
     "text": [
      "0.04792944785276074\n",
      "0.03869998121360135\n",
      "0.05520751761942052\n",
      "0.05939036381514257\n",
      "0.08812118972843155\n"
     ]
    }
   ],
   "source": [
    "for train, val in get_train_val(train_exp_on_prev, *get_split_points(train_exp_on_prev)):\n",
    "    extra_items = set(val.item_id) - set(train.item_id)\n",
    "    extra_idces = val.loc[val['item_id'].isin(extra_items)].index - val.index.min()\n",
    "    print(len(extra_idces) / len(val))"
   ]
  },
  {
   "cell_type": "code",
   "execution_count": 19,
   "metadata": {},
   "outputs": [],
   "source": [
    "new_items_share_in_test = 0.071"
   ]
  },
  {
   "cell_type": "code",
   "execution_count": 21,
   "metadata": {},
   "outputs": [],
   "source": [
    "for train, val in get_train_val(train_exp_on_prev, *get_split_points(train_exp_on_prev)):\n",
    "    extra_items = set(val.item_id) - set(train.item_id)\n",
    "    extra_idces = val.loc[val['item_id'].isin(extra_items)].index - val.index.min()\n",
    "    break"
   ]
  },
  {
   "cell_type": "code",
   "execution_count": 31,
   "metadata": {},
   "outputs": [
    {
     "name": "stdout",
     "output_type": "stream",
     "text": [
      "0.07100021134946634\n",
      "0.07100032061558191\n",
      "0.071000383656244\n",
      "0.07100015855572141\n",
      "0.07099776715059329\n"
     ]
    }
   ],
   "source": [
    "for train, val in get_train_val(train_exp_on_prev, *get_split_points(train_exp_on_prev)):\n",
    "    extra_items = set(val.item_id) - set(train.item_id)\n",
    "    extra_idces = val.loc[val['item_id'].isin(extra_items)].index - val.index.min()\n",
    "    if len(extra_idces) / len(val) < 0.071:\n",
    "        new_n_old_objects = int(len(extra_idces) / 0.071 - len(extra_idces))\n",
    "        new_val = val.loc[~val['item_id'].isin(extra_items)]\n",
    "        drop_indices = np.random.choice(new_val.index, len(new_val) - new_n_old_objects, replace=False)\n",
    "        new_val = val.drop(drop_indices)\n",
    "    else:\n",
    "        n_old_objects = len(val.loc[~val['item_id'].isin(extra_items)])\n",
    "        new_n_new_objects = int(n_old_objects * 0.071 / (1 - 0.071 ))\n",
    "        new_val = val.loc[val['item_id'].isin(extra_items)]\n",
    "        drop_indices = np.random.choice(new_val.index, len(new_val) - new_n_new_objects, replace=False)\n",
    "        new_val = val.drop(drop_indices)\n",
    "    print(len(new_val.loc[new_val['item_id'].isin(extra_items)]) / len(new_val))"
   ]
  },
  {
   "cell_type": "code",
   "execution_count": 28,
   "metadata": {},
   "outputs": [
    {
     "data": {
      "text/plain": [
       "0.07100021134946634"
      ]
     },
     "execution_count": 28,
     "metadata": {},
     "output_type": "execute_result"
    }
   ],
   "source": [
    "len(new_val.loc[new_val['item_id'].isin(extra_items)]) / len(new_val)"
   ]
  },
  {
   "cell_type": "code",
   "execution_count": 30,
   "metadata": {},
   "outputs": [
    {
     "data": {
      "text/plain": [
       "256374"
      ]
     },
     "execution_count": 30,
     "metadata": {},
     "output_type": "execute_result"
    }
   ],
   "source": [
    "new_n_new_objects"
   ]
  },
  {
   "cell_type": "code",
   "execution_count": null,
   "metadata": {},
   "outputs": [],
   "source": []
  }
 ],
 "metadata": {
  "kernelspec": {
   "display_name": "Python 3",
   "language": "python",
   "name": "python3"
  },
  "language_info": {
   "codemirror_mode": {
    "name": "ipython",
    "version": 3
   },
   "file_extension": ".py",
   "mimetype": "text/x-python",
   "name": "python",
   "nbconvert_exporter": "python",
   "pygments_lexer": "ipython3",
   "version": "3.7.3"
  }
 },
 "nbformat": 4,
 "nbformat_minor": 4
}
